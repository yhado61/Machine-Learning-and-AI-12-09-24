{
 "cells": [
  {
   "cell_type": "code",
   "execution_count": 4,
   "id": "ac34ecef",
   "metadata": {},
   "outputs": [
    {
     "name": "stderr",
     "output_type": "stream",
     "text": [
      "C:\\Users\\yhado\\AppData\\Local\\Programs\\Python\\Python312\\Lib\\site-packages\\tqdm\\auto.py:21: TqdmWarning: IProgress not found. Please update jupyter and ipywidgets. See https://ipywidgets.readthedocs.io/en/stable/user_install.html\n",
      "  from .autonotebook import tqdm as notebook_tqdm\n"
     ]
    }
   ],
   "source": [
    "# Cell 1: Import necessary libraries\n",
    "import pandas as pd\n",
    "import numpy as np\n",
    "from sklearn.model_selection import train_test_split\n",
    "from sklearn.metrics import average_precision_score\n",
    "import xgboost as xgb\n",
    "import optuna\n"
   ]
  },
  {
   "cell_type": "code",
   "execution_count": 5,
   "id": "6eee9c15",
   "metadata": {},
   "outputs": [],
   "source": [
    "# Import necessary libraries\n",
    "import pandas as pd\n",
    "import numpy as np\n",
    "\n",
    "# Load datasets with raw string paths\n",
    "train = pd.read_csv(r'C:\\Users\\yhado\\associationsltd.co.uk\\OneDrive - associationsltd.co.uk\\ML-AI\\Final project\\event-recommendation-engine-challenge\\train.csv')\n",
    "test = pd.read_csv(r'C:\\Users\\yhado\\associationsltd.co.uk\\OneDrive - associationsltd.co.uk\\ML-AI\\Final project\\event-recommendation-engine-challenge\\test.csv')\n",
    "users = pd.read_csv(r'C:\\Users\\yhado\\associationsltd.co.uk\\OneDrive - associationsltd.co.uk\\ML-AI\\Final project\\event-recommendation-engine-challenge\\users.csv')\n",
    "user_friends = pd.read_csv(r'C:\\Users\\yhado\\associationsltd.co.uk\\OneDrive - associationsltd.co.uk\\ML-AI\\Final project\\event-recommendation-engine-challenge\\user_friends.csv.gz', compression='gzip')\n",
    "events = pd.read_csv(r'C:\\Users\\yhado\\associationsltd.co.uk\\OneDrive - associationsltd.co.uk\\ML-AI\\Final project\\event-recommendation-engine-challenge\\events.csv.gz', compression='gzip')\n",
    "event_attendees = pd.read_csv(r'C:\\Users\\yhado\\associationsltd.co.uk\\OneDrive - associationsltd.co.uk\\ML-AI\\Final project\\event-recommendation-engine-challenge\\event_attendees.csv.gz', compression='gzip')\n"
   ]
  },
  {
   "cell_type": "code",
   "execution_count": 6,
   "id": "b6cc8852",
   "metadata": {},
   "outputs": [
    {
     "name": "stdout",
     "output_type": "stream",
     "text": [
      "Train dataset:\n",
      "      user       event  invited                         timestamp  interested  \\\n",
      "0  3044012  1918771225        0  2012-10-02 15:53:05.754000+00:00           0   \n",
      "1  3044012  1502284248        0  2012-10-02 15:53:05.754000+00:00           0   \n",
      "2  3044012  2529072432        0  2012-10-02 15:53:05.754000+00:00           1   \n",
      "3  3044012  3072478280        0  2012-10-02 15:53:05.754000+00:00           0   \n",
      "4  3044012  1390707377        0  2012-10-02 15:53:05.754000+00:00           0   \n",
      "\n",
      "   not_interested  \n",
      "0               0  \n",
      "1               0  \n",
      "2               0  \n",
      "3               0  \n",
      "4               0  \n",
      "Test dataset:\n",
      "      user       event  invited                         timestamp\n",
      "0  1776192  2877501688        0  2012-11-30 11:39:01.230000+00:00\n",
      "1  1776192  3025444328        0  2012-11-30 11:39:01.230000+00:00\n",
      "2  1776192  4078218285        0  2012-11-30 11:39:01.230000+00:00\n",
      "3  1776192  1024025121        0  2012-11-30 11:39:01.230000+00:00\n",
      "4  1776192  2972428928        0  2012-11-30 11:39:21.985000+00:00\n",
      "Users dataset:\n",
      "      user_id locale birthyear  gender                  joinedAt  \\\n",
      "0  3197468391  id_ID      1993    male  2012-10-02T06:40:55.524Z   \n",
      "1  3537982273  id_ID      1992    male  2012-09-29T18:03:12.111Z   \n",
      "2   823183725  en_US      1975    male  2012-10-06T03:14:07.149Z   \n",
      "3  1872223848  en_US      1991  female  2012-11-04T08:59:43.783Z   \n",
      "4  3429017717  id_ID      1995  female  2012-09-10T16:06:53.132Z   \n",
      "\n",
      "             location  timezone  \n",
      "0    Medan  Indonesia     480.0  \n",
      "1    Medan  Indonesia     420.0  \n",
      "2  Stratford  Ontario    -240.0  \n",
      "3        Tehran  Iran     210.0  \n",
      "4                 NaN     420.0  \n",
      "User Friends dataset:\n",
      "         user                                            friends\n",
      "0  3197468391  1346449342 3873244116 4226080662 1222907620 54...\n",
      "1  3537982273  1491560444 395798035 2036380346 899375619 3534...\n",
      "2   823183725  1484954627 1950387873 1652977611 4185960823 42...\n",
      "3  1872223848  83361640 723814682 557944478 1724049724 253059...\n",
      "4  3429017717  4253303705 2130310957 1838389374 3928735761 71...\n",
      "Events dataset:\n",
      "     event_id     user_id                start_time city state  zip country  \\\n",
      "0   684921758  3647864012  2012-10-31T00:00:00.001Z  NaN   NaN  NaN     NaN   \n",
      "1   244999119  3476440521  2012-11-03T00:00:00.001Z  NaN   NaN  NaN     NaN   \n",
      "2  3928440935   517514445  2012-11-05T00:00:00.001Z  NaN   NaN  NaN     NaN   \n",
      "3  2582345152   781585781  2012-10-30T00:00:00.001Z  NaN   NaN  NaN     NaN   \n",
      "4  1051165850  1016098580  2012-09-27T00:00:00.001Z  NaN   NaN  NaN     NaN   \n",
      "\n",
      "   lat  lng  c_1  ...  c_92  c_93  c_94  c_95  c_96  c_97  c_98  c_99  c_100  \\\n",
      "0  NaN  NaN    2  ...     0     1     0     0     0     0     0     0      0   \n",
      "1  NaN  NaN    2  ...     0     0     0     0     0     0     0     0      0   \n",
      "2  NaN  NaN    0  ...     0     0     0     0     0     0     0     0      0   \n",
      "3  NaN  NaN    1  ...     0     0     0     0     0     0     0     0      0   \n",
      "4  NaN  NaN    1  ...     0     0     0     0     0     0     0     0      0   \n",
      "\n",
      "   c_other  \n",
      "0        9  \n",
      "1        7  \n",
      "2       12  \n",
      "3        8  \n",
      "4        9  \n",
      "\n",
      "[5 rows x 110 columns]\n",
      "Event Attendees dataset:\n",
      "        event                                                yes  \\\n",
      "0  1159822043  1975964455 252302513 4226086795 3805886383 142...   \n",
      "1   686467261  2394228942 2686116898 1056558062 3792942231 41...   \n",
      "2  1186208412                                                NaN   \n",
      "3  2621578336                                                NaN   \n",
      "4   855842686  2406118796 3550897984 294255260 1125817077 109...   \n",
      "\n",
      "                                               maybe  \\\n",
      "0  2733420590 517546982 1350834692 532087573 5831...   \n",
      "1  1498184352 645689144 3770076778 331335845 4239...   \n",
      "2                              3320380166 3810793697   \n",
      "3                                                NaN   \n",
      "4  2671721559 1761448345 2356975806 2666669465 10...   \n",
      "\n",
      "                                             invited                     no  \n",
      "0  1723091036 3795873583 4109144917 3560622906 31...  3575574655 1077296663  \n",
      "1  1788073374 733302094 1830571649 676508092 7081...                    NaN  \n",
      "2                               1379121209 440668682  1728988561 2950720854  \n",
      "3                                                NaN                    NaN  \n",
      "4  1518670705 880919237 2326414227 2673818347 332...             3500235232  \n"
     ]
    }
   ],
   "source": [
    "# Verify that data is loaded correctly\n",
    "print(\"Train dataset:\")\n",
    "print(train.head())\n",
    "\n",
    "print(\"Test dataset:\")\n",
    "print(test.head())\n",
    "\n",
    "print(\"Users dataset:\")\n",
    "print(users.head())\n",
    "\n",
    "print(\"User Friends dataset:\")\n",
    "print(user_friends.head())\n",
    "\n",
    "print(\"Events dataset:\")\n",
    "print(events.head())\n",
    "\n",
    "print(\"Event Attendees dataset:\")\n",
    "print(event_attendees.head())\n"
   ]
  },
  {
   "cell_type": "code",
   "execution_count": 7,
   "id": "74a55e28",
   "metadata": {},
   "outputs": [
    {
     "name": "stdout",
     "output_type": "stream",
     "text": [
      "File loaded successfully!\n",
      "      user       event  invited                         timestamp  interested  \\\n",
      "0  3044012  1918771225        0  2012-10-02 15:53:05.754000+00:00           0   \n",
      "1  3044012  1502284248        0  2012-10-02 15:53:05.754000+00:00           0   \n",
      "2  3044012  2529072432        0  2012-10-02 15:53:05.754000+00:00           1   \n",
      "3  3044012  3072478280        0  2012-10-02 15:53:05.754000+00:00           0   \n",
      "4  3044012  1390707377        0  2012-10-02 15:53:05.754000+00:00           0   \n",
      "\n",
      "   not_interested  \n",
      "0               0  \n",
      "1               0  \n",
      "2               0  \n",
      "3               0  \n",
      "4               0  \n"
     ]
    }
   ],
   "source": [
    "# Test loading one file\n",
    "train_file = 'C:\\\\Users\\\\yhado\\\\associationsltd.co.uk\\\\OneDrive - associationsltd.co.uk\\\\ML-AI\\\\Final project\\\\event-recommendation-engine-challenge\\\\train.csv'\n",
    "\n",
    "try:\n",
    "    train = pd.read_csv(train_file)\n",
    "    print(\"File loaded successfully!\")\n",
    "    print(train.head())\n",
    "except FileNotFoundError:\n",
    "    print(\"File not found at:\", train_file)\n",
    "except pd.errors.ParserError:\n",
    "    print(\"Error parsing the file:\", train_file)\n"
   ]
  },
  {
   "cell_type": "code",
   "execution_count": 8,
   "id": "5bcccefc",
   "metadata": {},
   "outputs": [
    {
     "name": "stdout",
     "output_type": "stream",
     "text": [
      "      user       event  invited                         timestamp  interested  \\\n",
      "0  3044012  1918771225        0  2012-10-02 15:53:05.754000+00:00           0   \n",
      "1  3044012  1502284248        0  2012-10-02 15:53:05.754000+00:00           0   \n",
      "2  3044012  2529072432        0  2012-10-02 15:53:05.754000+00:00           1   \n",
      "3  3044012  3072478280        0  2012-10-02 15:53:05.754000+00:00           0   \n",
      "4  3044012  1390707377        0  2012-10-02 15:53:05.754000+00:00           0   \n",
      "\n",
      "   not_interested  \n",
      "0               0  \n",
      "1               0  \n",
      "2               0  \n",
      "3               0  \n",
      "4               0  \n",
      "      user       event  invited                         timestamp\n",
      "0  1776192  2877501688        0  2012-11-30 11:39:01.230000+00:00\n",
      "1  1776192  3025444328        0  2012-11-30 11:39:01.230000+00:00\n",
      "2  1776192  4078218285        0  2012-11-30 11:39:01.230000+00:00\n",
      "3  1776192  1024025121        0  2012-11-30 11:39:01.230000+00:00\n",
      "4  1776192  2972428928        0  2012-11-30 11:39:21.985000+00:00\n",
      "      user_id locale birthyear  gender                  joinedAt  \\\n",
      "0  3197468391  id_ID      1993    male  2012-10-02T06:40:55.524Z   \n",
      "1  3537982273  id_ID      1992    male  2012-09-29T18:03:12.111Z   \n",
      "2   823183725  en_US      1975    male  2012-10-06T03:14:07.149Z   \n",
      "3  1872223848  en_US      1991  female  2012-11-04T08:59:43.783Z   \n",
      "4  3429017717  id_ID      1995  female  2012-09-10T16:06:53.132Z   \n",
      "\n",
      "             location  timezone  \n",
      "0    Medan  Indonesia     480.0  \n",
      "1    Medan  Indonesia     420.0  \n",
      "2  Stratford  Ontario    -240.0  \n",
      "3        Tehran  Iran     210.0  \n",
      "4                 NaN     420.0  \n",
      "     event_id     user_id                start_time city state  zip country  \\\n",
      "0   684921758  3647864012  2012-10-31T00:00:00.001Z  NaN   NaN  NaN     NaN   \n",
      "1   244999119  3476440521  2012-11-03T00:00:00.001Z  NaN   NaN  NaN     NaN   \n",
      "2  3928440935   517514445  2012-11-05T00:00:00.001Z  NaN   NaN  NaN     NaN   \n",
      "3  2582345152   781585781  2012-10-30T00:00:00.001Z  NaN   NaN  NaN     NaN   \n",
      "4  1051165850  1016098580  2012-09-27T00:00:00.001Z  NaN   NaN  NaN     NaN   \n",
      "\n",
      "   lat  lng  c_1  ...  c_92  c_93  c_94  c_95  c_96  c_97  c_98  c_99  c_100  \\\n",
      "0  NaN  NaN    2  ...     0     1     0     0     0     0     0     0      0   \n",
      "1  NaN  NaN    2  ...     0     0     0     0     0     0     0     0      0   \n",
      "2  NaN  NaN    0  ...     0     0     0     0     0     0     0     0      0   \n",
      "3  NaN  NaN    1  ...     0     0     0     0     0     0     0     0      0   \n",
      "4  NaN  NaN    1  ...     0     0     0     0     0     0     0     0      0   \n",
      "\n",
      "   c_other  \n",
      "0        9  \n",
      "1        7  \n",
      "2       12  \n",
      "3        8  \n",
      "4        9  \n",
      "\n",
      "[5 rows x 110 columns]\n"
     ]
    }
   ],
   "source": [
    "# Cell 3: Verify that data is loaded correctly\n",
    "print(train.head())\n",
    "print(test.head())\n",
    "print(users.head())\n",
    "print(events.head())\n"
   ]
  },
  {
   "cell_type": "code",
   "execution_count": 4,
   "id": "c6f3fa61",
   "metadata": {},
   "outputs": [
    {
     "ename": "NameError",
     "evalue": "name 'events' is not defined",
     "output_type": "error",
     "traceback": [
      "\u001b[1;31m---------------------------------------------------------------------------\u001b[0m",
      "\u001b[1;31mNameError\u001b[0m                                 Traceback (most recent call last)",
      "Cell \u001b[1;32mIn[4], line 3\u001b[0m\n\u001b[0;32m      1\u001b[0m \u001b[38;5;66;03m# Cell 3: Preprocess the data\u001b[39;00m\n\u001b[0;32m      2\u001b[0m \u001b[38;5;66;03m# Extract useful features from the events and users dataset\u001b[39;00m\n\u001b[1;32m----> 3\u001b[0m events[\u001b[38;5;124m'\u001b[39m\u001b[38;5;124mstart_time\u001b[39m\u001b[38;5;124m'\u001b[39m] \u001b[38;5;241m=\u001b[39m pd\u001b[38;5;241m.\u001b[39mto_datetime(events[\u001b[38;5;124m'\u001b[39m\u001b[38;5;124mstart_time\u001b[39m\u001b[38;5;124m'\u001b[39m])\n\u001b[0;32m      4\u001b[0m train[\u001b[38;5;124m'\u001b[39m\u001b[38;5;124mtimestamp\u001b[39m\u001b[38;5;124m'\u001b[39m] \u001b[38;5;241m=\u001b[39m pd\u001b[38;5;241m.\u001b[39mto_datetime(train[\u001b[38;5;124m'\u001b[39m\u001b[38;5;124mtimestamp\u001b[39m\u001b[38;5;124m'\u001b[39m])\n\u001b[0;32m      6\u001b[0m \u001b[38;5;66;03m# Merge the train and user demographic data\u001b[39;00m\n",
      "\u001b[1;31mNameError\u001b[0m: name 'events' is not defined"
     ]
    }
   ],
   "source": [
    "# Cell 3: Preprocess the data\n",
    "# Extract useful features from the events and users dataset\n",
    "events['start_time'] = pd.to_datetime(events['start_time'])\n",
    "train['timestamp'] = pd.to_datetime(train['timestamp'])\n",
    "\n",
    "# Merge the train and user demographic data\n",
    "train_merged = pd.merge(train, users, left_on='user', right_on='user_id', how='left')\n",
    "\n",
    "# Handling missing values and creating relevant features\n",
    "train_merged.fillna(0, inplace=True)\n",
    "\n",
    "# Dropping unnecessary columns\n",
    "train_merged.drop(columns=['timestamp', 'joinedAt', 'locale'], inplace=True)\n"
   ]
  },
  {
   "cell_type": "code",
   "execution_count": 5,
   "id": "98cd115d",
   "metadata": {},
   "outputs": [
    {
     "ename": "NameError",
     "evalue": "name 'event_attendees' is not defined",
     "output_type": "error",
     "traceback": [
      "\u001b[1;31m---------------------------------------------------------------------------\u001b[0m",
      "\u001b[1;31mNameError\u001b[0m                                 Traceback (most recent call last)",
      "Cell \u001b[1;32mIn[5], line 3\u001b[0m\n\u001b[0;32m      1\u001b[0m \u001b[38;5;66;03m# Cell 4: Feature engineering\u001b[39;00m\n\u001b[0;32m      2\u001b[0m \u001b[38;5;66;03m# Create features for the event interactions (attendees, friends, etc.)\u001b[39;00m\n\u001b[1;32m----> 3\u001b[0m event_attendees[\u001b[38;5;124m'\u001b[39m\u001b[38;5;124myes_count\u001b[39m\u001b[38;5;124m'\u001b[39m] \u001b[38;5;241m=\u001b[39m event_attendees[\u001b[38;5;124m'\u001b[39m\u001b[38;5;124myes\u001b[39m\u001b[38;5;124m'\u001b[39m]\u001b[38;5;241m.\u001b[39mstr\u001b[38;5;241m.\u001b[39msplit()\u001b[38;5;241m.\u001b[39mapply(\u001b[38;5;28mlen\u001b[39m)\n\u001b[0;32m      4\u001b[0m event_attendees[\u001b[38;5;124m'\u001b[39m\u001b[38;5;124mno_count\u001b[39m\u001b[38;5;124m'\u001b[39m] \u001b[38;5;241m=\u001b[39m event_attendees[\u001b[38;5;124m'\u001b[39m\u001b[38;5;124mno\u001b[39m\u001b[38;5;124m'\u001b[39m]\u001b[38;5;241m.\u001b[39mstr\u001b[38;5;241m.\u001b[39msplit()\u001b[38;5;241m.\u001b[39mapply(\u001b[38;5;28mlen\u001b[39m)\n\u001b[0;32m      5\u001b[0m event_attendees[\u001b[38;5;124m'\u001b[39m\u001b[38;5;124mmaybe_count\u001b[39m\u001b[38;5;124m'\u001b[39m] \u001b[38;5;241m=\u001b[39m event_attendees[\u001b[38;5;124m'\u001b[39m\u001b[38;5;124mmaybe\u001b[39m\u001b[38;5;124m'\u001b[39m]\u001b[38;5;241m.\u001b[39mstr\u001b[38;5;241m.\u001b[39msplit()\u001b[38;5;241m.\u001b[39mapply(\u001b[38;5;28mlen\u001b[39m)\n",
      "\u001b[1;31mNameError\u001b[0m: name 'event_attendees' is not defined"
     ]
    }
   ],
   "source": [
    "# Cell 4: Feature engineering\n",
    "# Create features for the event interactions (attendees, friends, etc.)\n",
    "event_attendees['yes_count'] = event_attendees['yes'].str.split().apply(len)\n",
    "event_attendees['no_count'] = event_attendees['no'].str.split().apply(len)\n",
    "event_attendees['maybe_count'] = event_attendees['maybe'].str.split().apply(len)\n",
    "\n",
    "# Merge event data with the train data\n",
    "train_merged = pd.merge(train_merged, event_attendees[['event_id', 'yes_count', 'no_count', 'maybe_count']], left_on='event', right_on='event_id', how='left')\n",
    "train_merged.fillna(0, inplace=True)\n"
   ]
  },
  {
   "cell_type": "code",
   "execution_count": 6,
   "id": "8cb0bd47",
   "metadata": {},
   "outputs": [
    {
     "ename": "NameError",
     "evalue": "name 'train_merged' is not defined",
     "output_type": "error",
     "traceback": [
      "\u001b[1;31m---------------------------------------------------------------------------\u001b[0m",
      "\u001b[1;31mNameError\u001b[0m                                 Traceback (most recent call last)",
      "Cell \u001b[1;32mIn[6], line 2\u001b[0m\n\u001b[0;32m      1\u001b[0m \u001b[38;5;66;03m# Cell 5: Prepare training and test sets\u001b[39;00m\n\u001b[1;32m----> 2\u001b[0m X \u001b[38;5;241m=\u001b[39m \u001b[43mtrain_merged\u001b[49m\u001b[38;5;241m.\u001b[39mdrop(columns\u001b[38;5;241m=\u001b[39m[\u001b[38;5;124m'\u001b[39m\u001b[38;5;124minterested\u001b[39m\u001b[38;5;124m'\u001b[39m, \u001b[38;5;124m'\u001b[39m\u001b[38;5;124mnot_interested\u001b[39m\u001b[38;5;124m'\u001b[39m, \u001b[38;5;124m'\u001b[39m\u001b[38;5;124muser\u001b[39m\u001b[38;5;124m'\u001b[39m, \u001b[38;5;124m'\u001b[39m\u001b[38;5;124mevent\u001b[39m\u001b[38;5;124m'\u001b[39m, \u001b[38;5;124m'\u001b[39m\u001b[38;5;124mevent_id\u001b[39m\u001b[38;5;124m'\u001b[39m])\n\u001b[0;32m      3\u001b[0m y \u001b[38;5;241m=\u001b[39m train_merged[\u001b[38;5;124m'\u001b[39m\u001b[38;5;124minterested\u001b[39m\u001b[38;5;124m'\u001b[39m]\n\u001b[0;32m      5\u001b[0m \u001b[38;5;66;03m# Split data into training and validation sets\u001b[39;00m\n",
      "\u001b[1;31mNameError\u001b[0m: name 'train_merged' is not defined"
     ]
    }
   ],
   "source": [
    "# Cell 5: Prepare training and test sets\n",
    "X = train_merged.drop(columns=['interested', 'not_interested', 'user', 'event', 'event_id'])\n",
    "y = train_merged['interested']\n",
    "\n",
    "# Split data into training and validation sets\n",
    "X_train, X_val, y_train, y_val = train_test_split(X, y, test_size=0.2, random_state=42)\n"
   ]
  },
  {
   "cell_type": "code",
   "execution_count": 7,
   "id": "bebeabb6",
   "metadata": {},
   "outputs": [
    {
     "ename": "NameError",
     "evalue": "name 'optuna' is not defined",
     "output_type": "error",
     "traceback": [
      "\u001b[1;31m---------------------------------------------------------------------------\u001b[0m",
      "\u001b[1;31mNameError\u001b[0m                                 Traceback (most recent call last)",
      "Cell \u001b[1;32mIn[7], line 22\u001b[0m\n\u001b[0;32m     19\u001b[0m     y_pred \u001b[38;5;241m=\u001b[39m model\u001b[38;5;241m.\u001b[39mpredict_proba(X_val)[:, \u001b[38;5;241m1\u001b[39m]\n\u001b[0;32m     20\u001b[0m     \u001b[38;5;28;01mreturn\u001b[39;00m average_precision_score(y_val, y_pred)\n\u001b[1;32m---> 22\u001b[0m study \u001b[38;5;241m=\u001b[39m \u001b[43moptuna\u001b[49m\u001b[38;5;241m.\u001b[39mcreate_study(direction\u001b[38;5;241m=\u001b[39m\u001b[38;5;124m'\u001b[39m\u001b[38;5;124mmaximize\u001b[39m\u001b[38;5;124m'\u001b[39m)\n\u001b[0;32m     23\u001b[0m study\u001b[38;5;241m.\u001b[39moptimize(objective, n_trials\u001b[38;5;241m=\u001b[39m\u001b[38;5;241m50\u001b[39m)\n\u001b[0;32m     25\u001b[0m \u001b[38;5;28mprint\u001b[39m(\u001b[38;5;124m'\u001b[39m\u001b[38;5;124mBest trial: score \u001b[39m\u001b[38;5;132;01m{}\u001b[39;00m\u001b[38;5;124m, params \u001b[39m\u001b[38;5;132;01m{}\u001b[39;00m\u001b[38;5;124m'\u001b[39m\u001b[38;5;241m.\u001b[39mformat(study\u001b[38;5;241m.\u001b[39mbest_trial\u001b[38;5;241m.\u001b[39mvalue, study\u001b[38;5;241m.\u001b[39mbest_trial\u001b[38;5;241m.\u001b[39mparams))\n",
      "\u001b[1;31mNameError\u001b[0m: name 'optuna' is not defined"
     ]
    }
   ],
   "source": [
    "# Cell 6: Define XGBoost model and Bayesian optimization function\n",
    "def objective(trial):\n",
    "    param = {\n",
    "        'objective': 'binary:logistic',\n",
    "        'eval_metric': 'logloss',\n",
    "        'booster': 'gbtree',\n",
    "        'max_depth': trial.suggest_int('max_depth', 4, 10),\n",
    "        'learning_rate': trial.suggest_loguniform('learning_rate', 1e-3, 0.1),\n",
    "        'n_estimators': trial.suggest_int('n_estimators', 100, 500),\n",
    "        'subsample': trial.suggest_float('subsample', 0.5, 1.0),\n",
    "        'colsample_bytree': trial.suggest_float('colsample_bytree', 0.5, 1.0),\n",
    "        'gamma': trial.suggest_float('gamma', 0, 5)\n",
    "    }\n",
    "\n",
    "    model = xgb.XGBClassifier(**param)\n",
    "    model.fit(X_train, y_train)\n",
    "\n",
    "    # Predict on validation data\n",
    "    y_pred = model.predict_proba(X_val)[:, 1]\n",
    "    return average_precision_score(y_val, y_pred)\n",
    "\n",
    "study = optuna.create_study(direction='maximize')\n",
    "study.optimize(objective, n_trials=50)\n",
    "\n",
    "print('Best trial: score {}, params {}'.format(study.best_trial.value, study.best_trial.params))\n"
   ]
  },
  {
   "cell_type": "code",
   "execution_count": 16,
   "id": "cf764c9a",
   "metadata": {},
   "outputs": [],
   "source": [
    "# Cell 7: Train the final model with the best hyperparameters\n",
    "best_params = study.best_trial.params\n",
    "final_model = xgb.XGBClassifier(**best_params)\n",
    "final_model.fit(X, y)\n"
   ]
  },
  {
   "cell_type": "code",
   "execution_count": 17,
   "id": "3ce3b591",
   "metadata": {},
   "outputs": [],
   "source": [
    "# Cell 8: Make predictions on test set and output recommendations\n",
    "test_merged = pd.merge(test, users, left_on='user', right_on='user_id', how='left')\n",
    "test_merged = pd.merge(test_merged, event_attendees[['event_id', 'yes_count', 'no_count', 'maybe_count']], left_on='event', right_on='event_id', how='left')\n",
    "test_merged.fillna(0, inplace=True)\n",
    "X_test = test_merged.drop(columns=['user', 'event', 'event_id'])\n",
    "\n",
    "# Predict probabilities\n",
    "test_merged['interest_prob'] = final_model.predict_proba(X_test)[:, 1]\n",
    "\n",
    "# Rank events per user by predicted interest\n",
    "recommendations = test_merged.groupby('user').apply(lambda x: x.sort_values('interest_prob', ascending=False)['event'].tolist())\n",
    "\n",
    "# Display top recommendations for each user\n",
    "recommendations.head()\n"
   ]
  },
  {
   "cell_type": "code",
   "execution_count": 10,
   "id": "21a1cae1",
   "metadata": {},
   "outputs": [
    {
     "ename": "NameError",
     "evalue": "name 'final_model' is not defined",
     "output_type": "error",
     "traceback": [
      "\u001b[1;31m---------------------------------------------------------------------------\u001b[0m",
      "\u001b[1;31mNameError\u001b[0m                                 Traceback (most recent call last)",
      "Cell \u001b[1;32mIn[10], line 5\u001b[0m\n\u001b[0;32m      2\u001b[0m \u001b[38;5;28;01mdef\u001b[39;00m \u001b[38;5;21mmean_average_precision\u001b[39m(y_true, y_pred):\n\u001b[0;32m      3\u001b[0m     \u001b[38;5;28;01mreturn\u001b[39;00m average_precision_score(y_true, y_pred)\n\u001b[1;32m----> 5\u001b[0m y_pred_val \u001b[38;5;241m=\u001b[39m \u001b[43mfinal_model\u001b[49m\u001b[38;5;241m.\u001b[39mpredict_proba(X_val)[:, \u001b[38;5;241m1\u001b[39m]\n\u001b[0;32m      6\u001b[0m map_score \u001b[38;5;241m=\u001b[39m mean_average_precision(y_val, y_pred_val)\n\u001b[0;32m      7\u001b[0m \u001b[38;5;28mprint\u001b[39m(\u001b[38;5;124mf\u001b[39m\u001b[38;5;124m\"\u001b[39m\u001b[38;5;124mMean Average Precision at 200: \u001b[39m\u001b[38;5;132;01m{\u001b[39;00mmap_score\u001b[38;5;132;01m}\u001b[39;00m\u001b[38;5;124m\"\u001b[39m)\n",
      "\u001b[1;31mNameError\u001b[0m: name 'final_model' is not defined"
     ]
    }
   ],
   "source": [
    "# Cell 9: Compute Mean Average Precision at 200 for validation set\n",
    "def mean_average_precision(y_true, y_pred):\n",
    "    return average_precision_score(y_true, y_pred)\n",
    "\n",
    "y_pred_val = final_model.predict_proba(X_val)[:, 1]\n",
    "map_score = mean_average_precision(y_val, y_pred_val)\n",
    "print(f\"Mean Average Precision at 200: {map_score}\")\n"
   ]
  },
  {
   "cell_type": "code",
   "execution_count": 11,
   "id": "0f420dd5",
   "metadata": {},
   "outputs": [
    {
     "name": "stdout",
     "output_type": "stream",
     "text": [
      "Current Working Directory: C:\\Users\\yhado\n"
     ]
    }
   ],
   "source": [
    "import os\n",
    "print(\"Current Working Directory:\", os.getcwd())\n"
   ]
  },
  {
   "cell_type": "code",
   "execution_count": null,
   "id": "75a034e9",
   "metadata": {},
   "outputs": [],
   "source": []
  }
 ],
 "metadata": {
  "kernelspec": {
   "display_name": "Python (TensorFlow)",
   "language": "python",
   "name": "tensorflow-env"
  },
  "language_info": {
   "codemirror_mode": {
    "name": "ipython",
    "version": 3
   },
   "file_extension": ".py",
   "mimetype": "text/x-python",
   "name": "python",
   "nbconvert_exporter": "python",
   "pygments_lexer": "ipython3",
   "version": "3.12.6"
  }
 },
 "nbformat": 4,
 "nbformat_minor": 5
}
